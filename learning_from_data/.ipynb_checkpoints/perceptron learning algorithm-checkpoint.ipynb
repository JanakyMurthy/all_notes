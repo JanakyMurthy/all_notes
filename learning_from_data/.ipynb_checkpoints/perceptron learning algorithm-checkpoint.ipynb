{
 "cells": [
  {
   "cell_type": "code",
   "execution_count": 24,
   "metadata": {},
   "outputs": [],
   "source": [
    "import numpy as np\n",
    "import matplotlib.pyplot as plt"
   ]
  },
  {
   "cell_type": "markdown",
   "metadata": {},
   "source": [
    "# Lecture 1: Perceptron Learning Algorithm"
   ]
  },
  {
   "cell_type": "code",
   "execution_count": 25,
   "metadata": {},
   "outputs": [],
   "source": [
    "class Perceptron:\n",
    "    def __init__(self):\n",
    "        self.w = None\n",
    "        self.t = None\n",
    "    def train(self,X,Y):\n",
    "        \"\"\"\n",
    "        @X : points in R^d\n",
    "        @Y: label for each point - +1 or -1\n",
    "        Note: Assumes linearly separable data for convergence\n",
    "        \"\"\"\n",
    "        # initialize\n",
    "        num_points,d = X.shape\n",
    "        w = np.zeros(d)\n",
    "        t = 0\n",
    "        Y_estimated = np.sign(np.dot(w,X.T) + t)\n",
    "        is_classified_correct = (Y_estimated==Y)\n",
    "        converged = np.all(is_classified_correct==True)\n",
    "        iters = 0\n",
    "        while not converged:\n",
    "            # Choose a misclassified point\n",
    "            wrong_point_indices = np.where(is_classified_correct==False)[0]\n",
    "            i = np.random.choice(wrong_point_indices)\n",
    "            # Adjust weights and bring this point to the correct side...\n",
    "            w = w + Y[i]*X[i]\n",
    "            t = t + Y[i]\n",
    "            # Check if we are done\n",
    "            Y_estimated = np.sign(np.dot(w,X.T) + t)\n",
    "            is_classified_correct = (Y_estimated==Y)\n",
    "            converged = np.all(is_classified_correct==True)\n",
    "            iters += 1\n",
    "            if iters%20 == 0:\n",
    "                print(\"In iteration: \", iters)          \n",
    "        self.w = w\n",
    "        self.t = t\n",
    "        \n",
    "    def predict(self,x):\n",
    "        \"\"\"\n",
    "        @x: a point in R^d\n",
    "        \"\"\"\n",
    "        return np.sign(np.dot(self.w,x) + self.t)"
   ]
  },
  {
   "cell_type": "markdown",
   "metadata": {},
   "source": [
    "## Linearly Separable Test data"
   ]
  },
  {
   "cell_type": "code",
   "execution_count": 26,
   "metadata": {},
   "outputs": [
    {
     "data": {
      "image/png": "[encoded data removed]",
      "text/plain": [
       "<Figure size 432x288 with 1 Axes>"
      ]
     },
     "metadata": {
      "needs_background": "light"
     },
     "output_type": "display_data"
    }
   ],
   "source": [
    "# Generate Linearly seperable data\n",
    "N = 100\n",
    "d = 2\n",
    "X_train = np.random.rand(N,d)\n",
    "plt.figure()\n",
    "plt.plot(X_train[:,0],X_train[:,1],'k.')\n",
    "plt.title(\"Random points in unit square\")\n",
    "plt.show()"
   ]
  },
  {
   "cell_type": "code",
   "execution_count": 29,
   "metadata": {},
   "outputs": [
    {
     "data": {
      "image/png": "[encoded data removed]",
      "text/plain": [
       "<Figure size 432x288 with 1 Axes>"
      ]
     },
     "metadata": {
      "needs_background": "light"
     },
     "output_type": "display_data"
    }
   ],
   "source": [
    "m = np.random.rand()\n",
    "c = np.random.rand()\n",
    "Y_train = np.sign(m*X_train[:,0] + c - X_train[:,1])\n",
    "plt.figure()\n",
    "X_red = X_train[np.where(Y_train == 1)[0]]\n",
    "X_blue = X_train[np.where(Y_train == -1)[0]]\n",
    "plt.plot(X_red[:,0],X_red[:,1],'r.')\n",
    "plt.plot(X_blue[:,0],X_blue[:,1],'b.')\n",
    "plt.title(\"Choosing a random line to separate these points\")\n",
    "plt.show()"
   ]
  },
  {
   "cell_type": "markdown",
   "metadata": {},
   "source": [
    "## Train Perceptron"
   ]
  },
  {
   "cell_type": "code",
   "execution_count": 30,
   "metadata": {},
   "outputs": [],
   "source": [
    "p = Perceptron()"
   ]
  },
  {
   "cell_type": "code",
   "execution_count": 31,
   "metadata": {},
   "outputs": [
    {
     "name": "stdout",
     "output_type": "stream",
     "text": [
      "In iteration:  20\n",
      "In iteration:  40\n",
      "In iteration:  60\n",
      "In iteration:  80\n",
      "In iteration:  100\n",
      "In iteration:  120\n",
      "In iteration:  140\n",
      "In iteration:  160\n",
      "In iteration:  180\n",
      "In iteration:  200\n",
      "In iteration:  220\n",
      "In iteration:  240\n",
      "In iteration:  260\n",
      "In iteration:  280\n",
      "In iteration:  300\n",
      "In iteration:  320\n",
      "In iteration:  340\n"
     ]
    }
   ],
   "source": [
    "p.train(X_train,Y_train)"
   ]
  },
  {
   "cell_type": "markdown",
   "metadata": {},
   "source": [
    "## Predict"
   ]
  },
  {
   "cell_type": "code",
   "execution_count": 32,
   "metadata": {},
   "outputs": [],
   "source": [
    "X_test = np.random.rand(30,d)"
   ]
  },
  {
   "cell_type": "code",
   "execution_count": 33,
   "metadata": {},
   "outputs": [
    {
     "data": {
      "image/png": "[encoded data removed]",
      "text/plain": [
       "<Figure size 432x288 with 1 Axes>"
      ]
     },
     "metadata": {
      "needs_background": "light"
     },
     "output_type": "display_data"
    }
   ],
   "source": [
    "plt.figure()\n",
    "plt.plot(X_test[:,0],X_test[:,1],'k.')\n",
    "plt.title(\"Choosing random test points in unit square\")\n",
    "plt.show()"
   ]
  },
  {
   "cell_type": "code",
   "execution_count": 34,
   "metadata": {},
   "outputs": [],
   "source": [
    "Y_pred = np.array([p.predict(x) for x in X_test])\n",
    "Xt_red = X_test[np.where(Y_pred == 1)[0]]\n",
    "Xt_blue = X_test[np.where(Y_pred == -1)[0]]"
   ]
  },
  {
   "cell_type": "code",
   "execution_count": 35,
   "metadata": {},
   "outputs": [
    {
     "data": {
      "image/png": "[encoded data removed]",
      "text/plain": [
       "<Figure size 432x288 with 1 Axes>"
      ]
     },
     "metadata": {
      "needs_background": "light"
     },
     "output_type": "display_data"
    }
   ],
   "source": [
    "plt.figure()\n",
    "plt.plot(Xt_red[:,0],Xt_red[:,1],'r.')\n",
    "plt.plot(Xt_blue[:,0],Xt_blue[:,1],'b.')\n",
    "plt.title(\"Test points classified by the trained perceptron\")\n",
    "plt.show()"
   ]
  }
 ],
 "metadata": {
  "kernelspec": {
   "display_name": "Python 3",
   "language": "python",
   "name": "python3"
  },
  "language_info": {
   "codemirror_mode": {
    "name": "ipython",
    "version": 3
   },
   "file_extension": ".py",
   "mimetype": "text/x-python",
   "name": "python",
   "nbconvert_exporter": "python",
   "pygments_lexer": "ipython3",
   "version": "3.8.6"
  }
 },
 "nbformat": 4,
 "nbformat_minor": 4
}
